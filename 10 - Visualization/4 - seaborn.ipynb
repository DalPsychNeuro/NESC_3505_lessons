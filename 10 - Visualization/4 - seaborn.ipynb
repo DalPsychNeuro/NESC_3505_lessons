{
 "cells": [
  {
   "cell_type": "markdown",
   "id": "7ad28880-6bc8-4663-80eb-a0af28fe3dae",
   "metadata": {},
   "source": [
    "# Introduction to Plotting with Seaborn\n",
    "\n",
    "## Learning Objectives\n",
    "- Be familiar with the use-cases for Seaborn plots\n",
    "- Generate a varity of plots in Seaborn useful for EDA\n",
    "- Understand the advantages and disadvantages of different types of plots in Seaborn\n",
    "- Recognize and appropriately use strategies for visualizing continuous and categorical data\n",
    "- Visualize and reason about the distributions of data\n",
    "\n",
    "---\n",
    "\n",
    "## Introduction\n",
    "\n",
    "[Seaborn](https://seaborn.pydata.org) is a great Python plotting package that is built on top of Matplotlib. That is, it uses Matplotlib \"under the hood\", but it offers the user a much simpler API (set of commands) that enable us to generate a variety of great-looking plots that are particularly useful in data science. You can check out Seaboarn's [examples gallery](https://seaborn.pydata.org/examples/index.html) to see some of the cool stuff you can do (including plotting neuroscience data!). Seaborn was written by [Michael Waskom](https://mwaskom.github.io/).\n",
    "\n",
    "Comparing Seaborn to Matplotlib, you could say that Matplotlib givens you every sharp, hard-to-use tool in the shed, and you have to figure out how to learn them all without chopping off a finger. Fortunatley in data science you aren't likely to lose any fingers, but Seaborn gives you some DIY-friendly power tools to get data science jobs done easily and looking great. \n",
    "\n",
    "\n"
   ]
  },
  {
   "cell_type": "markdown",
   "id": "0ff8e231-13cd-41db-a73e-da71a1e14955",
   "metadata": {},
   "source": [
    "## Overview of Seaborn Plotting Functions\n",
    "\n",
    "Seaborn is organized into three categories of plot types, as shown below:\n",
    "\n",
    "<img src=https://seaborn.pydata.org/_images/function_overview_8_0.png  alt='Seaborn overview' width=500>\n",
    "\n",
    "*Image source: [seaborn.pydata.org](seaborn.pydata.org)*\n",
    "\n",
    "You can see that Seaborn's functions are organized around the different types of data, and questions we typically ask of data in data science: the `relpolt` function plots relationships between different (continuous) variables; the `displot` function plots distributions of data (such as histograms), and the`catplot` function.\n"
   ]
  },
  {
   "cell_type": "markdown",
   "id": "ba416fff-1919-44b4-be01-616ec4e41933",
   "metadata": {},
   "source": [
    "## Importing the Seaborn package\n",
    "\n",
    "By convention, the alias we use when importing Seaborn is `sns`.\n",
    "\n",
    "We'll also be using some other packages, so we'll import those packages at the same time."
   ]
  },
  {
   "cell_type": "markdown",
   "id": "326925b3-c710-4a6c-a44f-3d7a2defe9b3",
   "metadata": {},
   "source": [
    "~~~python\n",
    "import seaborn as sns\n",
    "import pandas as pd\n",
    "import matplotlib.pyplot as plt\n",
    "import glob\n",
    "~~~"
   ]
  },
  {
   "cell_type": "code",
   "execution_count": null,
   "id": "8fa8ab6f-cb60-409c-ac9f-65c8a2245999",
   "metadata": {},
   "outputs": [],
   "source": []
  },
  {
   "cell_type": "markdown",
   "id": "0478be1e-48cf-4e62-b95f-ae6b6778c553",
   "metadata": {
    "tags": []
   },
   "source": [
    "## Plotting Gapminder data\n",
    "\n",
    "Mostly we'll work with long-format data from here on, but since we have worked with the Gapminder data up until now, let's see how we can generate a plot similar to what we produced in the [Introduction to Plotting with Matplotlib](./plotting) lesson.\n",
    "\n",
    "First we'll load the Ocieania GDP data, and strip the leading text off column names so that they are just the years:"
   ]
  },
  {
   "cell_type": "markdown",
   "id": "bae1ade9-767b-4250-a95c-a0533b5d48ee",
   "metadata": {},
   "source": [
    "~~~python\n",
    "df = pd.read_csv('data/gapminder_gdp_oceania.csv', index_col='country')\n",
    "df.columns = df.columns.str.strip('gdpPercap_')\n",
    "~~~"
   ]
  },
  {
   "cell_type": "code",
   "execution_count": null,
   "id": "d1e56d29-d560-4ca6-b5e6-945dd58ca197",
   "metadata": {},
   "outputs": [],
   "source": []
  },
  {
   "cell_type": "markdown",
   "id": "fb1d202f-1c34-4b3a-94c0-e06b8ebdeb47",
   "metadata": {},
   "source": [
    "In the previous lesson, we plotted GDP for each country as a function of year. That is, year is on the *x* axis, GDP is on the *y* axis, and there are separate lines for each country. As discussed previously, in this dataset, year is a continuous variable, as is GDP, but country is a categorical variable. \n",
    "\n",
    "From the figure of Seaborn plot types above, you can see that `relplot()` is the function to use for relational plots — that is, when you want to show the relationships between two continuous variables (year and GDP in this case)."
   ]
  },
  {
   "cell_type": "markdown",
   "id": "dadbfa17-2b28-4807-bed2-ed13a6456674",
   "metadata": {},
   "source": [
    "~~~python\n",
    "\n",
    "sns.relplot(data=df.T, kind='line')  # For wide-format data we need to transpose rows & columns\n",
    "plt.show() # Always good practice to have this as the last line in a plotting cell\n",
    "~~~"
   ]
  },
  {
   "cell_type": "code",
   "execution_count": null,
   "id": "94c99b10-e5c9-41a7-9d9d-fd64335e2f71",
   "metadata": {},
   "outputs": [],
   "source": []
  },
  {
   "cell_type": "markdown",
   "id": "83b3b7b5-3a10-4a7c-89a8-7f2dd6970fde",
   "metadata": {},
   "source": [
    "Compared to plotting the data in Matplotlib (below), the results are similar, but Seaborn adds some aesthetic touches by default, such as reducing the number of irrelevant frame lines, putting the legend outside the plot, and making the line for the second condition dashed (which aids in discriminating lines, especially if there are several of them, or if someone has vision problems). As we'll see, Seaborn isn't just another pretty faces — it also makes a wide variety of plots easy to make with a consistent and relatively intuitive syntax.\n",
    "\n",
    "~~~python\n",
    "# Matplotlib version of the same plot\n",
    "df.T.plot()\n",
    "plt.show()\n",
    "~~~"
   ]
  },
  {
   "cell_type": "code",
   "execution_count": null,
   "id": "0cfa66fc-daa7-40f4-a5a8-d322e39d8a39",
   "metadata": {},
   "outputs": [],
   "source": []
  },
  {
   "cell_type": "markdown",
   "id": "6257e2e3-9b77-47b1-b9ce-ff3135201086",
   "metadata": {},
   "source": [
    "### Plotting Long-Format Data\n",
    "\n",
    "Let's move to working some some data of the sort we might find in cognitive psychology. Imagine a simple **lexical decision task**, an experiment in which each trial involves presenting a printed string of letters to a participant, and asking them to make a response as quickly as possible: pressing one button of the word is a real word in their native language, and another button if it is not a real word. The dependent variable in the experiment is reation time (RT) — the amount of time that passed between the onset of the word on the screen, and the button press.\n",
    "\n",
    "Lexical decision tasks are commonly used in psycholinguistics to explore properties of the real words, such as their length or how frequently they occur in normal usage. However, for our simple example, we'll focus on the simpler fact that, on average, people are slower in responding to nonwords than real words (especially if the nonwords look plausibly like real words, for example words like *blorp* or *furtle* that follow English word formation patterns).\n",
    "\n",
    "We've created some data, using a random number generator, to use in our plotting examples. The data were deliberately created with certain properties, so that the expected difference between RTs. We have data from 5 hypothetical participants, stored in separate data files in the `data` folder. The naming format for the files is `ldt_sXX_data.csv`, where `XX` stands for the subject ID number (two digits).\n",
    "\n",
    "First we'll load the data from the files, practcing our [list comprehension](../3/looping-data-files), and storing the result in a pandas DataFrame called `df`:\n",
    "\n",
    "~~~python\n",
    "df = pd.concat([pd.read_csv(f) for f in glob.glob('data/ldt_s??_data.csv')])\n",
    "~~~"
   ]
  },
  {
   "cell_type": "code",
   "execution_count": null,
   "id": "29ca5ada-d3be-4b5c-a241-763f10d6e810",
   "metadata": {},
   "outputs": [],
   "source": []
  },
  {
   "cell_type": "markdown",
   "id": "86d9df84-2f4c-45f5-b976-c5893202e23c",
   "metadata": {},
   "source": [
    "Let's look at a sample of the data:\n",
    "\n",
    "~~~python\n",
    "df.sample(10)\n",
    "~~~"
   ]
  },
  {
   "cell_type": "code",
   "execution_count": null,
   "id": "0a627d61-25b5-4236-bf21-06d153dba11d",
   "metadata": {},
   "outputs": [],
   "source": []
  },
  {
   "cell_type": "markdown",
   "id": "6243e29c-8270-4d93-909d-ce14cccd2b95",
   "metadata": {},
   "source": [
    "We can see that there are three columns:\n",
    "- `ID` is the unique participant identifier\n",
    "- `condition` is the type of word (real or nonword)\n",
    "- `RT` is reaction time, measured in seconds"
   ]
  },
  {
   "cell_type": "markdown",
   "id": "debfc85a-39be-4510-bdc9-b1441c891525",
   "metadata": {},
   "source": [
    "## Descriptive statistics\n",
    "\n",
    "We can use the pandas `.describe()` method to examine some basic properties of our data:\n",
    "\n",
    "~~~python\n",
    "df.describe()\n",
    "~~~"
   ]
  },
  {
   "cell_type": "code",
   "execution_count": null,
   "id": "237eb927-dcf8-44e6-b87d-69e0c20d234c",
   "metadata": {},
   "outputs": [],
   "source": []
  },
  {
   "cell_type": "markdown",
   "id": "de5ed586-168a-4728-8693-0ea7614fb0ab",
   "metadata": {},
   "source": [
    "Since `RT` is the only continuous variable in this DataFrame, we only get descriptive statistics for this variable."
   ]
  },
  {
   "cell_type": "markdown",
   "id": "bc3489f9-38cd-42d5-b20c-cf140f6fdf71",
   "metadata": {},
   "source": [
    "## Examining distributions with histograms\n",
    "\n",
    "**Histograms** are a type of plot that allows us to view distributions of values. The *x* axis of a histogram represents the values in the data, and the *y* axis shows the count of how many trials had that value on the *x* axis. Values on the *x* axis are grouped into *bins* — ranges of values. \n",
    "\n",
    "In Seaborn, we use the `displot()` function to plot distributions. Histograms are one type of `displot`, but they are the default, so we can just run the following:\n",
    "\n",
    "~~~python\n",
    "sns.displot(data=df, x='RT',\n",
    "           bins=25,\n",
    "           color='red')\n",
    "plt.show()\n",
    "~~~"
   ]
  },
  {
   "cell_type": "code",
   "execution_count": null,
   "id": "f9e91424-2aa7-4347-a8b6-7f194c7b2e24",
   "metadata": {},
   "outputs": [],
   "source": []
  },
  {
   "cell_type": "markdown",
   "id": "6f5d33a0-3b2c-4e69-a275-e5cd5edb3030",
   "metadata": {},
   "source": [
    "~~~python\n",
    "sns.displot(data=df, x='RT',\n",
    "           stat='probability')\n",
    "plt.show()\n",
    "~~~"
   ]
  },
  {
   "cell_type": "code",
   "execution_count": null,
   "id": "09631d7a-e26b-45bd-bcaa-08492cbf9f40",
   "metadata": {},
   "outputs": [],
   "source": []
  },
  {
   "cell_type": "markdown",
   "id": "12ab2798-9137-4b13-b27b-edf9eb86d8dc",
   "metadata": {},
   "source": [
    "### Tweaking Seaborn plots\n",
    "We can adjust the parameters of the histogram with a few kwargs, including adjusting technical aspects of how the data are treated to create the plot (like the number of bins), and *aesthetic* aspects of how it is represented visually (like the colour).\n",
    "\n",
    "~~~python\n",
    "sns.displot(kind='kde',\n",
    "           data=df, x='RT')\n",
    "plt.show()\n",
    "~~~"
   ]
  },
  {
   "cell_type": "code",
   "execution_count": null,
   "id": "0bfe3c32-272c-4430-bda9-a6897e50be70",
   "metadata": {},
   "outputs": [],
   "source": []
  },
  {
   "cell_type": "markdown",
   "id": "f175bc78-824a-4da3-8ba5-a09e31fc5218",
   "metadata": {},
   "source": [
    "In the above plot we increased the number of bins from the default to 25. You can see that the histogram looks less  smooth than it did with fewer bins — increasing the number of bins decreases the number of data points in the bins, which in turn results in greater random variability. \n",
    "\n",
    "By default (when you don't specify a number of bins), the software makes a decision based on characteristics of the data, which usually results in sensible bin sizes. \n",
    "\n",
    "~~~python\n",
    "df.groupby('condition').describe()\n",
    "~~~"
   ]
  },
  {
   "cell_type": "code",
   "execution_count": null,
   "id": "4856508f-ba37-47f3-9678-76d9d8dbb165",
   "metadata": {},
   "outputs": [],
   "source": []
  },
  {
   "cell_type": "markdown",
   "id": "464b3fc9-131a-4061-98aa-a621e8f10fd5",
   "metadata": {},
   "source": [
    "~~~python\n",
    "sns.displot(data=df, x='RT',\n",
    "           stat='probability')\n",
    "plt.show()\n",
    "~~~"
   ]
  },
  {
   "cell_type": "code",
   "execution_count": null,
   "id": "ab3dccab-7e31-48a2-a447-5f398499316a",
   "metadata": {},
   "outputs": [],
   "source": []
  },
  {
   "cell_type": "markdown",
   "id": "1687b2b5-3817-4d82-96c8-9add2631d50a",
   "metadata": {},
   "source": [
    "~~~python\n",
    "sns.displot(data=df, x='RT', hue='condition')\n",
    "plt.show()\n",
    "~~~"
   ]
  },
  {
   "cell_type": "code",
   "execution_count": null,
   "id": "5912159e-0061-413b-83ea-879ccf707271",
   "metadata": {},
   "outputs": [],
   "source": []
  },
  {
   "cell_type": "markdown",
   "id": "e1685c2f-6ed7-47ac-bb5f-8ea83599e8f2",
   "metadata": {},
   "source": [
    "~~~python\n",
    "sns.color_palette('Paired')\n",
    "~~~"
   ]
  },
  {
   "cell_type": "code",
   "execution_count": null,
   "id": "23f258f4-b17a-47cc-9e96-de6f88f88855",
   "metadata": {},
   "outputs": [],
   "source": []
  },
  {
   "cell_type": "markdown",
   "id": "d1cd1b4b-9796-44bb-a6b9-21fef629ec97",
   "metadata": {},
   "source": [
    "Density plots arguably make more sense for continuous variables like reaction time, since they represent continuous variables in a more continuous fashion. "
   ]
  },
  {
   "cell_type": "markdown",
   "id": "47c0c097-89fb-4a8e-9f59-eb065774d77f",
   "metadata": {},
   "source": [
    "## Viewing the data by condition\n",
    "\n",
    "As noted, the experiment had two conditions, words and nonwords. So far we've looked at the data overall, combining RTs from those two conditions. But it's easy to look at the data broken down by condition. \n",
    "\n",
    "Firstly, we can use pandas' `.groupby()` method to get descriptive statistics:\n",
    "\n",
    "~~~python\n",
    "df.groupby('condition').describe()\n",
    "~~~"
   ]
  },
  {
   "cell_type": "code",
   "execution_count": null,
   "id": "e91d6b10-90e8-471a-a609-b99f5f8949ff",
   "metadata": {},
   "outputs": [],
   "source": []
  },
  {
   "cell_type": "markdown",
   "id": "34ce07be-bca3-43d6-a61b-fbd458105fa9",
   "metadata": {},
   "source": [
    "~~~python\n",
    "sns.displot(kind='kde',\n",
    "           data=df,\n",
    "           x='RT', hue='condition', \n",
    "           palette='colorblind')\n",
    "plt.show()\n",
    "~~~"
   ]
  },
  {
   "cell_type": "code",
   "execution_count": null,
   "id": "35be6a07-5923-4090-9d45-c9c63d4068d8",
   "metadata": {},
   "outputs": [],
   "source": []
  },
  {
   "cell_type": "markdown",
   "id": "70866401-f1e9-4136-acde-b76aaf20ac75",
   "metadata": {},
   "source": [
    "~~~python\n",
    "sns.displot(data=df, x='RT', hue='condition')\n",
    "plt.show()\n",
    "~~~"
   ]
  },
  {
   "cell_type": "code",
   "execution_count": null,
   "id": "f3b2c0b9-175f-4270-9fa9-437a6cfbbf52",
   "metadata": {},
   "outputs": [],
   "source": []
  },
  {
   "cell_type": "markdown",
   "id": "a55b7474-130a-47a1-ae72-7977420ef0fc",
   "metadata": {},
   "source": [
    "The grey area in the plot represents overlap.\n",
    "\n",
    "You can see that Seaborn does lots of nice things to the plot automatically, that make it easy to interpret: there are meaningful labels on both axes, and a legend telling us what each colour represents.\n",
    "\n",
    "## Colour Choice\n",
    "\n",
    "Seaborn has a default *palette*, or set of colours, that it uses in sequence. You can see this with:\n",
    "    sns.color_palette()\n",
    "\n",
    "~~~python\n",
    "sns.color_palette()\n",
    "~~~"
   ]
  },
  {
   "cell_type": "code",
   "execution_count": null,
   "id": "3cac4c61-8cc6-44b7-a650-19e2969c9f2f",
   "metadata": {},
   "outputs": [],
   "source": []
  },
  {
   "cell_type": "markdown",
   "id": "48791225-0380-4af6-95a6-cdea50649d1e",
   "metadata": {},
   "source": [
    "So the first category plotted will be blue, the next orange, then green, etc..\n",
    "\n",
    "Seaborn provides a number of different colour palettes, although the default is a good choice as the hues are designed to be easily distinguished from each other, [even for people with different forms of colourblindness](https://gist.github.com/mwaskom/b35f6ebc2d4b340b4f64a4e28e778486).\n",
    "\n",
    "One alternative is the `Paired` palette (note the capital `P`), which is designed for when your data are naturally organized in pairs of categories (e.g., imagine if we had the conditions word and nonword, but we wanted to compare these in two different groups, such as native speakers and late learners of a language).\n",
    "\n",
    "~~~python\n",
    "sns.color_palette('Paired')\n",
    "~~~"
   ]
  },
  {
   "cell_type": "code",
   "execution_count": null,
   "id": "3dce5290-550f-4fea-9c08-a86c339f0231",
   "metadata": {},
   "outputs": [],
   "source": []
  },
  {
   "cell_type": "markdown",
   "id": "f6214b32-a958-4f31-be24-1d79e0713331",
   "metadata": {},
   "source": [
    "~~~python\n",
    "sns.displot(data=df, x='RT', hue='condition', palette='Paired')\n",
    "plt.show()\n",
    "~~~"
   ]
  },
  {
   "cell_type": "code",
   "execution_count": null,
   "id": "7e3ab5ae-aa27-48a6-8024-4008fe0110e7",
   "metadata": {},
   "outputs": [],
   "source": []
  },
  {
   "cell_type": "markdown",
   "id": "db40514f-4cff-474d-8cc7-ac3e04a67817",
   "metadata": {},
   "source": [
    "Some palettes are better for some things than others, though — for example, in the histogram above, the overlap is not very distinct from the other shades of blue.\n",
    "\n",
    "~~~python\n",
    "sns.displot(kind='kde',\n",
    "           data=df,\n",
    "           x='RT', hue='condition', \n",
    "           palette='colorblind')\n",
    "plt.show()\n",
    "~~~"
   ]
  },
  {
   "cell_type": "code",
   "execution_count": null,
   "id": "a08a5f35-4d11-4018-83d0-21fbc7dcdfbd",
   "metadata": {},
   "outputs": [],
   "source": []
  },
  {
   "cell_type": "code",
   "execution_count": 17,
   "id": "e83c14e8-7a86-4b3c-9d1b-4de47868c5a0",
   "metadata": {},
   "outputs": [
    {
     "data": {
      "image/png": "[encoded data removed]",
      "text/plain": [
       "<Figure size 439.25x360 with 1 Axes>"
      ]
     },
     "metadata": {
      "needs_background": "light"
     },
     "output_type": "display_data"
    }
   ],
   "source": [
    "sns.displot(kind='kde',\n",
    "           data=df,\n",
    "           x='RT', hue='condition', \n",
    "           palette='colorblind')\n",
    "plt.show()"
   ]
  },
  {
   "cell_type": "markdown",
   "id": "8f1f4829-51fb-451f-b7c5-2b52dfffbbaa",
   "metadata": {},
   "source": [
    "## Categorical Plots \n",
    "\n",
    "Histograms and KDEs are used to visualize the distribution of continuous variables, like RT in our example data set.  We can also plot categorical variables, by drawing different histograms/KDEs for each category, like for word vs. nonword in the plots above. These plots are most useful for visualizing the *shape* of the distributions of the data. This is an important first step in working with data, because some ways of treating data (including statistical tests like *t*-tests and ANOVAs) assume that the data are normally distributed, (the classic \"bell curve\"), and may not work as well or as accurately on data that have very different distributions. On the other hand, in such cases other approaches to analyzing the data could be more appropriate. \n",
    "\n",
    "That said, once we understand the distribution of the data, we might want to focus more on assessing whether there are differences between different categories (such as experimental conditions, or groups). This is where Seaborn's `catplot()` family of plots comes into play. \n",
    "\n",
    "`sns.catplot()` has 6 different plotting options, as shown in the figure at the top of this lesson. All of them allow us to view the distribution of the data, but in different ways, and often with a focus more on showing the mean, or median. This allows us to more easily compare differences between conditions, while considering the extent to which their distributions overlap or not. We'll show a few of them in this lesson. \n",
    "\n",
    "### Box plots\n",
    "\n",
    "Box plots (sometimes called box-and-whisker plots) are a classic and widely-used approach to comparing between categorical variables. The \"box\" shows the **interquartile range** (IQR) — the range between the 25th and 75th percentiles of the data. In other words, half of the data falls within this box. The line inside the box represents the **median**, or the value exactly in the middle of all the values in the data set. The whiskers (lines extending out from the box) end at ±1.5 x the IQR (more on that in a minute), and then any points plotted outside the whiskers are considered outliers. The idea behind this is that the whiskers end at what might reasonably be predicted to reflect the minimum and maximum values in the distribution, and any outliers are likely to be inaccurate measurements or other types of \"noise\". Below is a figure showing how the box plot mas on to the normal distribution, which is a helpful way to think about interpreting box plots.\n",
    "\n",
    "![](https://upload.wikimedia.org/wikipedia/commons/1/1a/Boxplot_vs_PDF.svg)\n",
    "\n",
    "*Image from [Jhguch](https://en.wikipedia.org/wiki/User:Jhguch) and shared under the  [Creative Commons Attribution-Share Alike 2.5 Generic](https://creativecommons.org/licenses/by-sa/2.5/deed.en) license*"
   ]
  },
  {
   "cell_type": "markdown",
   "id": "c52f50d6-f221-43f8-b1fe-0163f498f12a",
   "metadata": {},
   "source": [
    "### Drawing box plots with Seaborn\n",
    "\n",
    "~~~python\n",
    "sns.catplot(kind='box',\n",
    "           data=df, \n",
    "           x='condition', y='RT')\n",
    "\n",
    "plt.show()\n",
    "~~~"
   ]
  },
  {
   "cell_type": "code",
   "execution_count": null,
   "id": "cf6f050a-3ad7-4973-b84e-16de21c0c719",
   "metadata": {},
   "outputs": [],
   "source": []
  },
  {
   "cell_type": "markdown",
   "id": "d8f084d7-1f20-4e31-a7f6-22d4ffde47cf",
   "metadata": {},
   "source": [
    "We can see from this that the distributions of the two conditions appear quite different, and indeed their IQRs do not overlap at all. This gives us good confidence that RTs are probably different in the two conditions. You can also see that there are a few outliers (the diamonds outside the whiskers). \n",
    "\n",
    "Although we lose some of the details of the distribution in going from a histogram to a box plot, we gain some simplicity, and it's easier to assess how different our different conditions are. \n"
   ]
  },
  {
   "cell_type": "markdown",
   "id": "12951564-2ff4-4f90-bcd6-a6bb287c49bf",
   "metadata": {},
   "source": [
    "## Violin Plots\n",
    "\n",
    "A violin plot is in some ways the \"best of both worlds\", combining a box plot with a KDE. Note that the syntax of this plot is identical to that for the box plot above, except the `kind` kwarg.\n",
    "\n",
    "~~~python\n",
    "sns.catplot(kind='violin',\n",
    "           data=df, \n",
    "           x='condition', y='RT')\n",
    "\n",
    "plt.show()\n",
    "~~~"
   ]
  },
  {
   "cell_type": "code",
   "execution_count": null,
   "id": "61145d09-d0c3-4a85-b26d-d80bb1c9d50b",
   "metadata": {},
   "outputs": [],
   "source": []
  },
  {
   "cell_type": "markdown",
   "id": "95e0b388-a9a9-41ac-98cc-558e0f46c7ba",
   "metadata": {},
   "source": [
    "The box plot has been made more narrow, but the thinker black line inside each \"violin\" is the IQR, and the thinner lines the whiskers. The coloured, shaded area is the KDE. For aesthetic reasons, the KDE is shown on both sides of the box plot (although if you have different sub-categories, you could plot different distributions on each side). \n",
    "\n",
    "In adding the distribution plot to the box plot, you gain detail, but perhaps at the cost of the simplicity of a box plot, and its usefulness in making inferences about differences between conditions. \n",
    "\n",
    "<div class=\"alert alert-block alert-info\">\n",
    "I'll comment for the record that \"violin\" plot is a terrible name — if the distribution of your data was actually shaped like a violin that would be very suspicious! I prefer Salem Waligura-Newman's name for them, which is \"stingray plots\". But sadly, once a name is out there, it sticks so you should get used to calling them violin plots. \n",
    "</div>"
   ]
  },
  {
   "cell_type": "markdown",
   "id": "b1e93278-7c7a-459d-b057-dcb9f3d49312",
   "metadata": {},
   "source": [
    "## Strip and Swarm plots\n",
    "\n",
    "These are quite similar, and both plot the actual individual data points. \n",
    "\n",
    "\n",
    "~~~python\n",
    "sns.catplot(kind='strip',\n",
    "           data=df, \n",
    "           x='condition', y='RT')\n",
    "\n",
    "plt.show()\n",
    "~~~"
   ]
  },
  {
   "cell_type": "code",
   "execution_count": null,
   "id": "b7b33fa3-9027-42a8-9101-ae9644222aec",
   "metadata": {},
   "outputs": [],
   "source": []
  },
  {
   "cell_type": "markdown",
   "id": "c1570084-64b7-4bcb-abd5-0b4713319cac",
   "metadata": {},
   "source": [
    "Swarm plots shift data points laterally when they are dense, reducing overlap and making it easier to see where the data are more dense.\n",
    "\n",
    "~~~python\n",
    "sns.catplot(kind='swarm',\n",
    "           data=df, \n",
    "           x='condition', y='RT')\n",
    "\n",
    "plt.show()\n",
    "~~~"
   ]
  },
  {
   "cell_type": "code",
   "execution_count": null,
   "id": "9a21564f-6b7c-4eda-b4f4-3cf71509882b",
   "metadata": {},
   "outputs": [],
   "source": []
  },
  {
   "cell_type": "markdown",
   "id": "7b3aeb10-1b3e-4456-a490-71690f31bc60",
   "metadata": {},
   "source": [
    "## Bar plots\n",
    "\n",
    "These are classic ways of representing data, that focus more on showing and comparing means for different conditions, than on the distribution. The \"error bars\" (black bars at the top of each bar below) represent 95% confidence intervals, which are a way of representing variance that is better-suited for comparing between means, than for assessing the shape or breadth of the distribution. You can see below that the bar plots lose a lot of the information about the distributions of data, relative to box plots or any of the other plots above. \n",
    "\n",
    "Another limitation of bar plots is that they are \"anchored\" at zero. For some data this makes sense, especially if the data values relative to zero are meaningful. But in many cases — including our current RT data — this doesn't make a lot of sense. An RT of zero would be considered invalid data, since the human nervous system can't execute a response to a stimulus at the speed of light. So our experiment is not really concerned with how much slower than zero a person responded. As well, if your data values are far from zero, and the differences between conditions are relatively small, then bar plots make make the differences look meaninglessly small, because the *y* axis has to span the entire range from zero to the maximum value in the plot.\n",
    "\n",
    "~~~python\n",
    "sns.catplot(kind='bar',\n",
    "data=df, \n",
    "x='condition', y='RT')\n",
    "\n",
    "plt.show()\n",
    "~~~"
   ]
  },
  {
   "cell_type": "code",
   "execution_count": null,
   "id": "7f997b4b-e892-4eda-88d4-9217cd0ceb89",
   "metadata": {},
   "outputs": [],
   "source": []
  },
  {
   "cell_type": "markdown",
   "id": "052d69d5-b5b2-4eba-83ad-a7ffda4f2b3f",
   "metadata": {},
   "source": [
    "## Point and Line Plots\n",
    "\n",
    "Point plots generally are a better choice when you want to focus on comparing means between categories, because they simply show the means as points, with 95% confidence intervals. The scale of the plots will be more appropriate, without the visual bias that bar plots create by filling the range from zero to the mean of each condition with a big block of colour.\n",
    "\n",
    "By default, Seaborn draws lines connecting the points in a plot. This is only really appropriate if your categories are \"connected\" in some meaningful way, such as different time points (e.g., pre- vs. post-treatment for some intervention), or when you have multiple categorical variables. \n",
    "\n",
    "~~~python\n",
    "sns.catplot(kind='point',\n",
    "           data=df, \n",
    "           x='condition', y='RT')\n",
    "\n",
    "plt.show()\n",
    "~~~"
   ]
  },
  {
   "cell_type": "code",
   "execution_count": null,
   "id": "e02330bf-9142-4210-b5ae-f6509517f49a",
   "metadata": {},
   "outputs": [],
   "source": []
  },
  {
   "cell_type": "markdown",
   "id": "ea3af447-d92c-48e7-b902-92db70bca951",
   "metadata": {},
   "source": [
    "We can remove the lines with `join=False`, and colour-code the different levels of condition with `hue='condition'`\n",
    "\n",
    "~~~python\n",
    "sns.catplot(kind='point', join=False, hue='condition',\n",
    "           data=df, \n",
    "           x='condition', y='RT')\n",
    "\n",
    "plt.show()\n",
    "~~~"
   ]
  },
  {
   "cell_type": "code",
   "execution_count": null,
   "id": "8952554d-c8fb-4ebf-8d81-d9417f0c2c2a",
   "metadata": {},
   "outputs": [],
   "source": []
  },
  {
   "cell_type": "markdown",
   "id": "d2b0980f-071f-493c-ab53-9f0d6eb0bf50",
   "metadata": {},
   "source": [
    "---\n",
    "\n",
    "## Summary\n",
    "- Seaborn makes it easy to generate plots useful for EDA\n",
    "- `displot()` is used for visualizing distributions of data, as histograms or kernel density estimates (KDEs)\n",
    "- 'catplot()' is used for making comparisons between different levels of categorical data, such as different experimental conditions or groups\n",
    "- Different kinds of `catplot()` plots vary in how much they communicate information about the distributions of data in each category, versus on differences between the means of the categories\n",
    "- In EDA, it's often useful to visualize the data many ways to really understand it. Even still, it's importnat to have an understanding of the strengths and limitations of different kinds of plots\n",
    "- Seaborn makes it relatively easy to generate plots and adjust properties such as colour and "
   ]
  }
 ],
 "metadata": {
  "kernelspec": {
   "display_name": "Python 3 (ipykernel)",
   "language": "python",
   "name": "python3"
  },
  "language_info": {
   "codemirror_mode": {
    "name": "ipython",
    "version": 3
   },
   "file_extension": ".py",
   "mimetype": "text/x-python",
   "name": "python",
   "nbconvert_exporter": "python",
   "pygments_lexer": "ipython3",
   "version": "3.9.6"
  }
 },
 "nbformat": 4,
 "nbformat_minor": 5
}
