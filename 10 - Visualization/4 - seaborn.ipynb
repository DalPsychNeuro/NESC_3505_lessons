{
 "cells": [
  {
   "cell_type": "markdown",
   "id": "7ad28880-6bc8-4663-80eb-a0af28fe3dae",
   "metadata": {},
   "source": [
    "# Introduction to Plotting with Seaborn\n",
    "\n",
    "## Learning Objectives\n",
    "- Be familiar with the use-cases for Seaborn plots\n",
    "- Generate a varity of plots in Seaborn useful for EDA\n",
    "- Understand the advantages and disadvantages of different types of plots in Seaborn\n",
    "- Recognize and appropriately use strategies for visualizing continuous and categorical data\n",
    "- Visualize and reason about the distributions of data\n",
    "\n",
    "---\n",
    "\n",
    "## Introduction\n",
    "\n",
    "[Seaborn](https://seaborn.pydata.org) is a great Python plotting package that is built on top of Matplotlib. That is, it uses Matplotlib \"under the hood\", but it offers the user a much simpler API (set of commands) that enable us to generate a variety of great-looking plots that are particularly useful in data science. You can check out Seaboarn's [examples gallery](https://seaborn.pydata.org/examples/index.html) to see some of the cool stuff you can do (including plotting neuroscience data!). Seaborn was written by [Michael Waskom](https://mwaskom.github.io/).\n",
    "\n",
    "Comparing Seaborn to Matplotlib, you could say that Matplotlib givens you every sharp, hard-to-use tool in the shed, and you have to figure out how to learn them all without chopping off a finger. Fortunatley in data science you aren't likely to lose any fingers, but Seaborn gives you some DIY-friendly power tools to get data science jobs done easily and looking great. \n",
    "\n",
    "\n"
   ]
  },
  {
   "cell_type": "markdown",
   "id": "0ff8e231-13cd-41db-a73e-da71a1e14955",
   "metadata": {},
   "source": [
    "## Overview of Seaborn Plotting Functions\n",
    "\n",
    "Seaborn is organized into three categories of plot types, as shown below:\n",
    "\n",
    "<img src=https://seaborn.pydata.org/_images/function_overview_8_0.png  alt='Seaborn overview' width=500>\n",
    "\n",
    "*Image source: [seaborn.pydata.org](seaborn.pydata.org)*\n",
    "\n",
    "You can see that Seaborn's functions are organized around the different types of data, and questions we typically ask of data in data science: the `relpolt` function plots relationships between different (continuous) variables; the `displot` function plots distributions of data (such as histograms), and the`catplot` function.\n"
   ]
  },
  {
   "cell_type": "markdown",
   "id": "ba416fff-1919-44b4-be01-616ec4e41933",
   "metadata": {},
   "source": [
    "## Importing the Seaborn package\n",
    "\n",
    "By convention, the alias we use when importing Seaborn is `sns`.\n",
    "\n",
    "We'll also be using some other packages, so we'll import those packages at the same time."
   ]
  },
  {
   "cell_type": "markdown",
   "id": "326925b3-c710-4a6c-a44f-3d7a2defe9b3",
   "metadata": {},
   "source": [
    "~~~python\n",
    "import seaborn as sns\n",
    "import pandas as pd\n",
    "import matplotlib.pyplot as plt\n",
    "import glob\n",
    "~~~"
   ]
  },
  {
   "cell_type": "markdown",
   "id": "0478be1e-48cf-4e62-b95f-ae6b6778c553",
   "metadata": {},
   "source": [
    "## Plotting Gapminder data\n",
    "\n",
    "Mostly we'll work with long-format data from here on, but since we have worked with the Gapminder data up until now, let's see how we can generate a plot similar to what we produced in the [Introduction to Plotting with Matplotlib](./plotting) lesson.\n",
    "\n",
    "First we'll load the Ocieania GDP data, and strip the leading text off column names so that they are just the years:"
   ]
  },
  {
   "cell_type": "markdown",
   "id": "bae1ade9-767b-4250-a95c-a0533b5d48ee",
   "metadata": {},
   "source": [
    "~~~python\n",
    "df = pd.read_csv('data/gapminder_gdp_oceania.csv', index_col='country')\n",
    "df.columns = df.columns.str.strip('gdpPercap_')\n",
    "~~~"
   ]
  },
  {
   "cell_type": "code",
   "execution_count": null,
   "id": "d1e56d29-d560-4ca6-b5e6-945dd58ca197",
   "metadata": {},
   "outputs": [],
   "source": []
  },
  {
   "cell_type": "markdown",
   "id": "fb1d202f-1c34-4b3a-94c0-e06b8ebdeb47",
   "metadata": {},
   "source": [
    "In the previous lesson, we plotted GDP for each country as a function of year. That is, year is on the *x* axis, GDP is on the *y* axis, and there are separate lines for each country. As discussed previously, in this dataset, year is a continuous variable, as is GDP, but country is a categorical variable. \n",
    "\n",
    "From the figure of Seaborn plot types above, you can see that `relplot()` is the function to use for relational plots — that is, when you want to show the relationships between two continuous variables (year and GDP in this case)."
   ]
  },
  {
   "cell_type": "markdown",
   "id": "dadbfa17-2b28-4807-bed2-ed13a6456674",
   "metadata": {},
   "source": [
    "~~~python\n",
    "\n",
    "sns.relplot(data=df.T, kind='line')  # For wide-format data we need to transpose rows & columns\n",
    "plt.show() # Always good practice to have this as the last line in a plotting cell\n",
    "~~~"
   ]
  },
  {
   "cell_type": "code",
   "execution_count": null,
   "id": "94c99b10-e5c9-41a7-9d9d-fd64335e2f71",
   "metadata": {},
   "outputs": [],
   "source": []
  },
  {
   "cell_type": "markdown",
   "id": "a635c793-5ccd-4ee4-b68b-6714114d839c",
   "metadata": {},
   "source": [
    "Compared to plotting the data in Matplotlib (below), the results are similar, but Seaborn adds some aesthetic touches by default, such as reducing the number of irrelevant frame lines, putting the legend outside the plot, and making the line for the second condition dashed (which aids in discriminating lines, especially if there are several of them, or if someone has vision problems). As we'll see, Seaborn isn't just another pretty faces — it also makes a wide variety of plots easy to make with a consistent and relatively intuitive syntax."
   ]
  },
  {
   "cell_type": "markdown",
   "id": "efd76e40-d2a9-4722-bb62-0dcd91eff3cb",
   "metadata": {},
   "source": [
    "~~~python\n",
    "\n",
    "# Matplotlib version of the same plot\n",
    "df.T.plot()\n",
    "plt.show()\n",
    "~~~"
   ]
  },
  {
   "cell_type": "code",
   "execution_count": null,
   "id": "0cfa66fc-daa7-40f4-a5a8-d322e39d8a39",
   "metadata": {},
   "outputs": [],
   "source": []
  },
  {
   "cell_type": "markdown",
   "id": "bbe9f873-9036-40c1-8701-ff16aadc9691",
   "metadata": {},
   "source": [
    "### Plotting Long-Format Data\n",
    "\n",
    "Let's move to working some some data of the sort we might find in cognitive psychology. Imagine a simple **lexical decision task**, an experiment in which each trial involves presenting a printed string of letters to a participant, and asking them to make a response as quickly as possible: pressing one button of the word is a real word in their native language, and another button if it is not a real word. The dependent variable in the experiment is reation time (RT) — the amount of time that passed between the onset of the word on the screen, and the button press.\n",
    "\n",
    "Lexical decision tasks are commonly used in psycholinguistics to explore properties of the real words, such as their length or how frequently they occur in normal usage. However, for our simple example, we'll focus on the simpler fact that, on average, people are slower in responding to nonwords than real words (especially if the nonwords look plausibly like real words, for example words like *blorp* or *furtle* that follow English word formation patterns).\n",
    "\n",
    "We've created some data, using a random number generator, to use in our plotting examples. The data were deliberately created with certain properties, so that the expected difference between RTs. We have data from 5 hypothetical participants, stored in separate data files in the `data` folder. The naming format for the files is `ldt_sXX_data.csv`, where `XX` stands for the subject ID number (two digits).\n",
    "\n",
    "First we'll load the data from the files, practcing our [list comprehension](../3/looping-data-files), and storing the result in a pandas DataFrame called `df`:"
   ]
  },
  {
   "cell_type": "markdown",
   "id": "260db176-098e-4670-a7a5-7ea0fe10b57a",
   "metadata": {},
   "source": [
    "~~~python\n",
    "\n",
    "df = pd.concat([pd.read_csv(f) for f in glob.glob('data/ldt_s??_data.csv')])\n",
    "~~~"
   ]
  },
  {
   "cell_type": "code",
   "execution_count": null,
   "id": "29ca5ada-d3be-4b5c-a241-763f10d6e810",
   "metadata": {},
   "outputs": [],
   "source": []
  },
  {
   "cell_type": "markdown",
   "id": "bce63ff8-55be-4e60-b849-f8a25ca0312f",
   "metadata": {},
   "source": [
    "Let's look at a sample of the data:"
   ]
  },
  {
   "cell_type": "markdown",
   "id": "8c0d2150-3d9c-44f5-b06f-b46cb7cb8437",
   "metadata": {},
   "source": [
    "~~~python\n",
    "df.sample(10)\n",
    "~~~"
   ]
  },
  {
   "cell_type": "code",
   "execution_count": null,
   "id": "0a627d61-25b5-4236-bf21-06d153dba11d",
   "metadata": {},
   "outputs": [],
   "source": []
  },
  {
   "cell_type": "markdown",
   "id": "6243e29c-8270-4d93-909d-ce14cccd2b95",
   "metadata": {},
   "source": [
    "We can see that there are three columns:\n",
    "- `ID` is the unique participant identifier\n",
    "- `condition` is the type of word (real or nonword)\n",
    "- `RT` is reaction time, measured in seconds"
   ]
  },
  {
   "cell_type": "markdown",
   "id": "d8ce2c97-6e26-4213-a1ba-f06e596f6e16",
   "metadata": {},
   "source": [
    "## Descriptive statistics\n",
    "\n",
    "We can use the pandas `.describe()` method to examine some basic properties of our data:"
   ]
  },
  {
   "cell_type": "markdown",
   "id": "24802110-2737-4b96-91a8-be118a2095ce",
   "metadata": {},
   "source": [
    "~~~python\n",
    "df.describe()\n",
    "~~~"
   ]
  },
  {
   "cell_type": "code",
   "execution_count": null,
   "id": "237eb927-dcf8-44e6-b87d-69e0c20d234c",
   "metadata": {},
   "outputs": [],
   "source": []
  },
  {
   "cell_type": "markdown",
   "id": "de5ed586-168a-4728-8693-0ea7614fb0ab",
   "metadata": {},
   "source": [
    "Since `RT` is the only continuous variable in this DataFrame, we only get descriptive statistics for this variable."
   ]
  },
  {
   "cell_type": "markdown",
   "id": "5f28f75e-2ad6-461d-830f-0219ed2994cc",
   "metadata": {},
   "source": [
    "## Examining distributions with histograms\n",
    "\n",
    "**Histograms** are a type of plot that allows us to view distributions of values. The *x* axis of a histogram represents the values in the data, and the *y* axis shows the count of how many trials had that value on the *x* axis. Values on the *x* axis are grouped into *bins* — ranges of values. \n",
    "\n",
    "In Seaborn, we use the `displot()` function to plot distributions. Histograms are one type of `displot`, but they are the default, so we can just run the following:"
   ]
  },
  {
   "cell_type": "markdown",
   "id": "c73bc0a5-7401-42c5-9eb4-d60378bcaeeb",
   "metadata": {},
   "source": [
    "~~~python\n",
    "sns.displot(data=df, x='RT',\n",
    "           bins=25,\n",
    "           color='red')\n",
    "plt.show()\n",
    "~~~"
   ]
  },
  {
   "cell_type": "code",
   "execution_count": null,
   "id": "f9e91424-2aa7-4347-a8b6-7f194c7b2e24",
   "metadata": {},
   "outputs": [],
   "source": []
  },
  {
   "cell_type": "markdown",
   "id": "6f5d33a0-3b2c-4e69-a275-e5cd5edb3030",
   "metadata": {},
   "source": [
    "~~~python\n",
    "sns.displot(data=df, x='RT',\n",
    "           stat='probability')\n",
    "plt.show()\n",
    "~~~"
   ]
  },
  {
   "cell_type": "code",
   "execution_count": null,
   "id": "09631d7a-e26b-45bd-bcaa-08492cbf9f40",
   "metadata": {},
   "outputs": [],
   "source": []
  },
  {
   "cell_type": "markdown",
   "id": "3dc63205-1ddc-4fda-a7e8-04fcdd08174c",
   "metadata": {},
   "source": [
    "### Tweaking Seaborn plots\n",
    "We can adjust the parameters of the histogram with a few kwargs, including adjusting technical aspects of how the data are treated to create the plot (like the number of bins), and *aesthetic* aspects of how it is represented visually (like the colour)."
   ]
  },
  {
   "cell_type": "markdown",
   "id": "3c09320b-457a-4686-9481-de3d49817e35",
   "metadata": {},
   "source": [
    "~~~python\n",
    "sns.displot(kind='kde',\n",
    "           data=df, x='RT')\n",
    "plt.show()\n",
    "~~~"
   ]
  },
  {
   "cell_type": "code",
   "execution_count": null,
   "id": "0bfe3c32-272c-4430-bda9-a6897e50be70",
   "metadata": {},
   "outputs": [],
   "source": []
  },
  {
   "cell_type": "markdown",
   "id": "f7c2badc-b7c9-4df1-a060-1e7352c81fd0",
   "metadata": {},
   "source": [
    "In the above plot we increased the number of bins from the default to 25. You can see that the histogram looks less  smooth than it did with fewer bins — increasing the number of bins decreases the number of data points in the bins, which in turn results in greater random variability. \n",
    "\n",
    "By default (when you don't specify a number of bins), the software makes a decision based on characteristics of the data, which usually results in sensible bin sizes. "
   ]
  },
  {
   "cell_type": "markdown",
   "id": "2a573d27-3752-4ece-935b-945adc9f3e8a",
   "metadata": {},
   "source": [
    "~~~python\n",
    "df.groupby('condition').describe()\n",
    "~~~"
   ]
  },
  {
   "cell_type": "code",
   "execution_count": null,
   "id": "4856508f-ba37-47f3-9678-76d9d8dbb165",
   "metadata": {},
   "outputs": [],
   "source": []
  },
  {
   "cell_type": "code",
   "execution_count": 10,
   "id": "a9936bc0-e9e5-4a78-8ffc-2c10c1c6dc93",
   "metadata": {},
   "outputs": [
    {
     "data": {
      "image/png": "[encoded data removed]",
      "text/plain": [
       "<Figure size 360x360 with 1 Axes>"
      ]
     },
     "metadata": {
      "needs_background": "light"
     },
     "output_type": "display_data"
    }
   ],
   "source": [
    "sns.displot(data=df, x='RT',\n",
    "           stat='probability')\n",
    "plt.show()"
   ]
  },
  {
   "cell_type": "markdown",
   "id": "1687b2b5-3817-4d82-96c8-9add2631d50a",
   "metadata": {},
   "source": [
    "~~~python\n",
    "sns.displot(data=df, x='RT', hue='condition')\n",
    "plt.show()\n",
    "~~~"
   ]
  },
  {
   "cell_type": "code",
   "execution_count": null,
   "id": "5912159e-0061-413b-83ea-879ccf707271",
   "metadata": {},
   "outputs": [],
   "source": []
  },
  {
   "cell_type": "markdown",
   "id": "e1685c2f-6ed7-47ac-bb5f-8ea83599e8f2",
   "metadata": {},
   "source": [
    "~~~python\n",
    "sns.color_palette('Paired')\n",
    "~~~"
   ]
  },
  {
   "cell_type": "code",
   "execution_count": null,
   "id": "23f258f4-b17a-47cc-9e96-de6f88f88855",
   "metadata": {},
   "outputs": [],
   "source": []
  },
  {
   "cell_type": "markdown",
   "id": "d1cd1b4b-9796-44bb-a6b9-21fef629ec97",
   "metadata": {},
   "source": [
    "Density plots arguably make more sense for continuous variables like reaction time, since they represent continuous variables in a more continuous fashion. "
   ]
  },
  {
   "cell_type": "markdown",
   "id": "58023d67-c205-42f9-9d39-1b3f75bb1ff8",
   "metadata": {
    "tags": []
   },
   "source": [
    "## Viewing the data by condition\n",
    "\n",
    "As noted, the experiment had two conditions, words and nonwords. So far we've looked at the data overall, combining RTs from those two conditions. But it's easy to look at the data broken down by condition. \n",
    "\n",
    "Firstly, we can use pandas' `.groupby()` method to get descriptive statistics:"
   ]
  },
  {
   "cell_type": "code",
   "execution_count": 12,
   "id": "051e6a0b-84b0-43ff-83ae-ba5cfd419757",
   "metadata": {},
   "outputs": [
    {
     "data": {
      "text/html": [
       "<div>\n",
       "<style scoped>\n",
       "    .dataframe tbody tr th:only-of-type {\n",
       "        vertical-align: middle;\n",
       "    }\n",
       "\n",
       "    .dataframe tbody tr th {\n",
       "        vertical-align: top;\n",
       "    }\n",
       "\n",
       "    .dataframe thead tr th {\n",
       "        text-align: left;\n",
       "    }\n",
       "\n",
       "    .dataframe thead tr:last-of-type th {\n",
       "        text-align: right;\n",
       "    }\n",
       "</style>\n",
       "<table border=\"1\" class=\"dataframe\">\n",
       "  <thead>\n",
       "    <tr>\n",
       "      <th></th>\n",
       "      <th colspan=\"8\" halign=\"left\">RT</th>\n",
       "    </tr>\n",
       "    <tr>\n",
       "      <th></th>\n",
       "      <th>count</th>\n",
       "      <th>mean</th>\n",
       "      <th>std</th>\n",
       "      <th>min</th>\n",
       "      <th>25%</th>\n",
       "      <th>50%</th>\n",
       "      <th>75%</th>\n",
       "      <th>max</th>\n",
       "    </tr>\n",
       "    <tr>\n",
       "      <th>condition</th>\n",
       "      <th></th>\n",
       "      <th></th>\n",
       "      <th></th>\n",
       "      <th></th>\n",
       "      <th></th>\n",
       "      <th></th>\n",
       "      <th></th>\n",
       "      <th></th>\n",
       "    </tr>\n",
       "  </thead>\n",
       "  <tbody>\n",
       "    <tr>\n",
       "      <th>nonword</th>\n",
       "      <td>125.0</td>\n",
       "      <td>0.816832</td>\n",
       "      <td>0.134197</td>\n",
       "      <td>0.543264</td>\n",
       "      <td>0.721688</td>\n",
       "      <td>0.805079</td>\n",
       "      <td>0.890855</td>\n",
       "      <td>1.167865</td>\n",
       "    </tr>\n",
       "    <tr>\n",
       "      <th>word</th>\n",
       "      <td>125.0</td>\n",
       "      <td>0.597581</td>\n",
       "      <td>0.126518</td>\n",
       "      <td>0.255318</td>\n",
       "      <td>0.526860</td>\n",
       "      <td>0.595869</td>\n",
       "      <td>0.682765</td>\n",
       "      <td>0.939802</td>\n",
       "    </tr>\n",
       "  </tbody>\n",
       "</table>\n",
       "</div>"
      ],
      "text/plain": [
       "              RT                                                              \\\n",
       "           count      mean       std       min       25%       50%       75%   \n",
       "condition                                                                      \n",
       "nonword    125.0  0.816832  0.134197  0.543264  0.721688  0.805079  0.890855   \n",
       "word       125.0  0.597581  0.126518  0.255318  0.526860  0.595869  0.682765   \n",
       "\n",
       "                     \n",
       "                max  \n",
       "condition            \n",
       "nonword    1.167865  \n",
       "word       0.939802  "
      ]
     },
     "execution_count": 12,
     "metadata": {},
     "output_type": "execute_result"
    }
   ],
   "source": [
    "df.groupby('condition').describe()"
   ]
  },
  {
   "cell_type": "markdown",
   "id": "34ce07be-bca3-43d6-a61b-fbd458105fa9",
   "metadata": {},
   "source": [
    "~~~python\n",
    "sns.displot(kind='kde',\n",
    "           data=df,\n",
    "           x='RT', hue='condition', \n",
    "           palette='colorblind')\n",
    "plt.show()\n",
    "~~~"
   ]
  },
  {
   "cell_type": "code",
   "execution_count": null,
   "id": "35be6a07-5923-4090-9d45-c9c63d4068d8",
   "metadata": {},
   "outputs": [],
   "source": []
  },
  {
   "cell_type": "code",
   "execution_count": 13,
   "id": "8761a89f-c61b-43f0-b374-a3e0b5648fa8",
   "metadata": {},
   "outputs": [
    {
     "data": {
      "image/png": "[encoded data removed]",
      "text/plain": [
       "<Figure size 439.25x360 with 1 Axes>"
      ]
     },
     "metadata": {
      "needs_background": "light"
     },
     "output_type": "display_data"
    }
   ],
   "source": [
    "sns.displot(data=df, x='RT', hue='condition')\n",
    "plt.show()"
   ]
  },
  {
   "cell_type": "markdown",
   "id": "cfab6c15-3c18-4170-848e-a60411e83ed5",
   "metadata": {},
   "source": [
    "The grey area in the plot represents overlap.\n",
    "\n",
    "You can see that Seaborn does lots of nice things to the plot automatically, that make it easy to interpret: there are meaningful labels on both axes, and a legend telling us what each colour represents.\n",
    "\n",
    "## Colour Choice\n",
    "\n",
    "Seaborn has a default *palette*, or set of colours, that it uses in sequence. You can see this with:\n",
    "    sns.color_palette()"
   ]
  },
  {
   "cell_type": "code",
   "execution_count": 14,
   "id": "ce23288e-5066-4a14-be93-6f1d20c0705e",
   "metadata": {},
   "outputs": [
    {
     "data": {
      "text/html": [
       "<svg  width=\"550\" height=\"55\"><rect x=\"0\" y=\"0\" width=\"55\" height=\"55\" style=\"fill:#1f77b4;stroke-width:2;stroke:rgb(255,255,255)\"/><rect x=\"55\" y=\"0\" width=\"55\" height=\"55\" style=\"fill:#ff7f0e;stroke-width:2;stroke:rgb(255,255,255)\"/><rect x=\"110\" y=\"0\" width=\"55\" height=\"55\" style=\"fill:#2ca02c;stroke-width:2;stroke:rgb(255,255,255)\"/><rect x=\"165\" y=\"0\" width=\"55\" height=\"55\" style=\"fill:#d62728;stroke-width:2;stroke:rgb(255,255,255)\"/><rect x=\"220\" y=\"0\" width=\"55\" height=\"55\" style=\"fill:#9467bd;stroke-width:2;stroke:rgb(255,255,255)\"/><rect x=\"275\" y=\"0\" width=\"55\" height=\"55\" style=\"fill:#8c564b;stroke-width:2;stroke:rgb(255,255,255)\"/><rect x=\"330\" y=\"0\" width=\"55\" height=\"55\" style=\"fill:#e377c2;stroke-width:2;stroke:rgb(255,255,255)\"/><rect x=\"385\" y=\"0\" width=\"55\" height=\"55\" style=\"fill:#7f7f7f;stroke-width:2;stroke:rgb(255,255,255)\"/><rect x=\"440\" y=\"0\" width=\"55\" height=\"55\" style=\"fill:#bcbd22;stroke-width:2;stroke:rgb(255,255,255)\"/><rect x=\"495\" y=\"0\" width=\"55\" height=\"55\" style=\"fill:#17becf;stroke-width:2;stroke:rgb(255,255,255)\"/></svg>"
      ],
      "text/plain": [
       "[(0.12156862745098039, 0.4666666666666667, 0.7058823529411765),\n",
       " (1.0, 0.4980392156862745, 0.054901960784313725),\n",
       " (0.17254901960784313, 0.6274509803921569, 0.17254901960784313),\n",
       " (0.8392156862745098, 0.15294117647058825, 0.1568627450980392),\n",
       " (0.5803921568627451, 0.403921568627451, 0.7411764705882353),\n",
       " (0.5490196078431373, 0.33725490196078434, 0.29411764705882354),\n",
       " (0.8901960784313725, 0.4666666666666667, 0.7607843137254902),\n",
       " (0.4980392156862745, 0.4980392156862745, 0.4980392156862745),\n",
       " (0.7372549019607844, 0.7411764705882353, 0.13333333333333333),\n",
       " (0.09019607843137255, 0.7450980392156863, 0.8117647058823529)]"
      ]
     },
     "execution_count": 14,
     "metadata": {},
     "output_type": "execute_result"
    }
   ],
   "source": [
    "sns.color_palette()"
   ]
  },
  {
   "cell_type": "markdown",
   "id": "48791225-0380-4af6-95a6-cdea50649d1e",
   "metadata": {},
   "source": [
    "So the first category plotted will be blue, the next orange, then green, etc..\n",
    "\n",
    "Seaborn provides a number of different colour palettes, although the default is a good choice as the hues are designed to be easily distinguished from each other, [even for people with different forms of colourblindness](https://gist.github.com/mwaskom/b35f6ebc2d4b340b4f64a4e28e778486).\n",
    "\n",
    "One alternative is the `Paired` palette (note the capital `P`), which is designed for when your data are naturally organized in pairs of categories (e.g., imagine if we had the conditions word and nonword, but we wanted to compare these in two different groups, such as native speakers and late learners of a language).\n",
    "\n",
    "    sns.color_palette('Paired')"
   ]
  },
  {
   "cell_type": "code",
   "execution_count": 15,
   "id": "17feeede-0b4c-489a-adc3-887f3886a57a",
   "metadata": {},
   "outputs": [
    {
     "data": {
      "text/html": [
       "<svg  width=\"660\" height=\"55\"><rect x=\"0\" y=\"0\" width=\"55\" height=\"55\" style=\"fill:#a6cee3;stroke-width:2;stroke:rgb(255,255,255)\"/><rect x=\"55\" y=\"0\" width=\"55\" height=\"55\" style=\"fill:#1f78b4;stroke-width:2;stroke:rgb(255,255,255)\"/><rect x=\"110\" y=\"0\" width=\"55\" height=\"55\" style=\"fill:#b2df8a;stroke-width:2;stroke:rgb(255,255,255)\"/><rect x=\"165\" y=\"0\" width=\"55\" height=\"55\" style=\"fill:#33a02c;stroke-width:2;stroke:rgb(255,255,255)\"/><rect x=\"220\" y=\"0\" width=\"55\" height=\"55\" style=\"fill:#fb9a99;stroke-width:2;stroke:rgb(255,255,255)\"/><rect x=\"275\" y=\"0\" width=\"55\" height=\"55\" style=\"fill:#e31a1c;stroke-width:2;stroke:rgb(255,255,255)\"/><rect x=\"330\" y=\"0\" width=\"55\" height=\"55\" style=\"fill:#fdbf6f;stroke-width:2;stroke:rgb(255,255,255)\"/><rect x=\"385\" y=\"0\" width=\"55\" height=\"55\" style=\"fill:#ff7f00;stroke-width:2;stroke:rgb(255,255,255)\"/><rect x=\"440\" y=\"0\" width=\"55\" height=\"55\" style=\"fill:#cab2d6;stroke-width:2;stroke:rgb(255,255,255)\"/><rect x=\"495\" y=\"0\" width=\"55\" height=\"55\" style=\"fill:#6a3d9a;stroke-width:2;stroke:rgb(255,255,255)\"/><rect x=\"550\" y=\"0\" width=\"55\" height=\"55\" style=\"fill:#ffff99;stroke-width:2;stroke:rgb(255,255,255)\"/><rect x=\"605\" y=\"0\" width=\"55\" height=\"55\" style=\"fill:#b15928;stroke-width:2;stroke:rgb(255,255,255)\"/></svg>"
      ],
      "text/plain": [
       "[(0.6509803921568628, 0.807843137254902, 0.8901960784313725),\n",
       " (0.12156862745098039, 0.47058823529411764, 0.7058823529411765),\n",
       " (0.6980392156862745, 0.8745098039215686, 0.5411764705882353),\n",
       " (0.2, 0.6274509803921569, 0.17254901960784313),\n",
       " (0.984313725490196, 0.6039215686274509, 0.6),\n",
       " (0.8901960784313725, 0.10196078431372549, 0.10980392156862745),\n",
       " (0.9921568627450981, 0.7490196078431373, 0.43529411764705883),\n",
       " (1.0, 0.4980392156862745, 0.0),\n",
       " (0.792156862745098, 0.6980392156862745, 0.8392156862745098),\n",
       " (0.41568627450980394, 0.23921568627450981, 0.6039215686274509),\n",
       " (1.0, 1.0, 0.6),\n",
       " (0.6941176470588235, 0.34901960784313724, 0.1568627450980392)]"
      ]
     },
     "execution_count": 15,
     "metadata": {},
     "output_type": "execute_result"
    }
   ],
   "source": [
    "~~~python\n",
    "sns.color_palette('Paired')\n",
    "~~~"
   ]
  },
  {
   "cell_type": "code",
   "execution_count": 16,
   "id": "9ed357e9-172e-479b-98bc-753a061c81f7",
   "metadata": {},
   "outputs": [
    {
     "data": {
      "image/png": "[encoded data removed]",
      "text/plain": [
       "<Figure size 439.25x360 with 1 Axes>"
      ]
     },
     "metadata": {
      "needs_background": "light"
     },
     "output_type": "display_data"
    }
   ],
   "source": [
    "sns.displot(data=df, x='RT', hue='condition', palette='Paired')\n",
    "plt.show()"
   ]
  },
  {
   "cell_type": "markdown",
   "id": "a9f30801-7d0c-44f1-be60-63324eb11c77",
   "metadata": {},
   "source": [
    "Some palettes are better for some things than others, though — for example, in the histogram above, the overlap is not very distinct from the other shades of blue."
   ]
  },
  {
   "cell_type": "markdown",
   "id": "13f11ead-65be-48d5-97a9-bb49df2db46e",
   "metadata": {},
   "source": [
    "We can use the `hue` kwarg with other Seaborn plots as well, like `kde`:"
   ]
  },
  {
   "cell_type": "code",
   "execution_count": 17,
   "id": "e83c14e8-7a86-4b3c-9d1b-4de47868c5a0",
   "metadata": {},
   "outputs": [
    {
     "data": {
      "image/png": "[encoded data removed]",
      "text/plain": [
       "<Figure size 439.25x360 with 1 Axes>"
      ]
     },
     "metadata": {
      "needs_background": "light"
     },
     "output_type": "display_data"
    }
   ],
   "source": [
    "sns.displot(kind='kde',\n",
    "           data=df,\n",
    "           x='RT', hue='condition', \n",
    "           palette='colorblind')\n",
    "plt.show()"
   ]
  },
  {
   "cell_type": "markdown",
   "id": "8f1f4829-51fb-451f-b7c5-2b52dfffbbaa",
   "metadata": {},
   "source": [
    "## Categorical Plots \n",
    "\n",
    "Histograms and KDEs are used to visualize the distribution of continuous variables, like RT in our example data set.  We can also plot categorical variables, by drawing different histograms/KDEs for each category, like for word vs. nonword in the plots above. These plots are most useful for visualizing the *shape* of the distributions of the data. This is an important first step in working with data, because some ways of treating data (including statistical tests like *t*-tests and ANOVAs) assume that the data are normally distributed, (the classic \"bell curve\"), and may not work as well or as accurately on data that have very different distributions. On the other hand, in such cases other approaches to analyzing the data could be more appropriate. \n",
    "\n",
    "That said, once we understand the distribution of the data, we might want to focus more on assessing whether there are differences between different categories (such as experimental conditions, or groups). This is where Seaborn's `catplot()` family of plots comes into play. \n",
    "\n",
    "`sns.catplot()` has 6 different plotting options, as shown in the figure at the top of this lesson. All of them allow us to view the distribution of the data, but in different ways, and often with a focus more on showing the mean, or median. This allows us to more easily compare differences between conditions, while considering the extent to which their distributions overlap or not. We'll show a few of them in this lesson. \n",
    "\n",
    "### Box plots\n",
    "\n",
    "Box plots (sometimes called box-and-whisker plots) are a classic and widely-used approach to comparing between categorical variables. The \"box\" shows the **interquartile range** (IQR) — the range between the 25th and 75th percentiles of the data. In other words, half of the data falls within this box. The line inside the box represents the **median**, or the value exactly in the middle of all the values in the data set. The whiskers (lines extending out from the box) end at ±1.5 x the IQR (more on that in a minute), and then any points plotted outside the whiskers are considered outliers. The idea behind this is that the whiskers end at what might reasonably be predicted to reflect the minimum and maximum values in the distribution, and any outliers are likely to be inaccurate measurements or other types of \"noise\". Below is a figure showing how the box plot mas on to the normal distribution, which is a helpful way to think about interpreting box plots.\n",
    "\n",
    "![](https://upload.wikimedia.org/wikipedia/commons/1/1a/Boxplot_vs_PDF.svg)\n",
    "\n",
    "*Image from [Jhguch](https://en.wikipedia.org/wiki/User:Jhguch) and shared under the  [Creative Commons Attribution-Share Alike 2.5 Generic](https://creativecommons.org/licenses/by-sa/2.5/deed.en) license*"
   ]
  },
  {
   "cell_type": "markdown",
   "id": "2a3d3391-7cf0-4d76-8364-c1c4f8892cab",
   "metadata": {},
   "source": [
    "### Drawing box plots with Seaborn"
   ]
  },
  {
   "cell_type": "markdown",
   "id": "42394d99-776a-4cb5-8873-79a1bc41b71c",
   "metadata": {},
   "source": [
    "~~~python\n",
    "sns.catplot(kind='box',\n",
    "           data=df, \n",
    "           x='condition', y='RT')\n",
    "\n",
    "plt.show()\n",
    "~~~"
   ]
  },
  {
   "cell_type": "code",
   "execution_count": null,
   "id": "cf6f050a-3ad7-4973-b84e-16de21c0c719",
   "metadata": {},
   "outputs": [],
   "source": []
  },
  {
   "cell_type": "markdown",
   "id": "d8f084d7-1f20-4e31-a7f6-22d4ffde47cf",
   "metadata": {},
   "source": [
    "We can see from this that the distributions of the two conditions appear quite different, and indeed their IQRs do not overlap at all. This gives us good confidence that RTs are probably different in the two conditions. You can also see that there are a few outliers (the diamonds outside the whiskers). \n",
    "\n",
    "Although we lose some of the details of the distribution in going from a histogram to a box plot, we gain some simplicity, and it's easier to assess how different our different conditions are. \n"
   ]
  },
  {
   "cell_type": "markdown",
   "id": "dfba3b57-b343-4448-b0ba-405c4667fe75",
   "metadata": {},
   "source": [
    "## Violin Plots\n",
    "\n",
    "A violin plot is in some ways the \"best of both worlds\", combining a box plot with a KDE. Note that the syntax of this plot is identical to that for the box plot above, except the `kind` kwarg."
   ]
  },
  {
   "cell_type": "markdown",
   "id": "effd5dd4-ce19-43a2-a4e0-65b4528ce7f4",
   "metadata": {},
   "source": [
    "~~~python\n",
    "sns.catplot(kind='violin',\n",
    "           data=df, \n",
    "           x='condition', y='RT')\n",
    "\n",
    "plt.show()\n",
    "~~~"
   ]
  },
  {
   "cell_type": "code",
   "execution_count": null,
   "id": "61145d09-d0c3-4a85-b26d-d80bb1c9d50b",
   "metadata": {},
   "outputs": [],
   "source": []
  },
  {
   "cell_type": "markdown",
   "id": "95e0b388-a9a9-41ac-98cc-558e0f46c7ba",
   "metadata": {},
   "source": [
    "The box plot has been made more narrow, but the thinker black line inside each \"violin\" is the IQR, and the thinner lines the whiskers. The coloured, shaded area is the KDE. For aesthetic reasons, the KDE is shown on both sides of the box plot (although if you have different sub-categories, you could plot different distributions on each side). \n",
    "\n",
    "In adding the distribution plot to the box plot, you gain detail, but perhaps at the cost of the simplicity of a box plot, and its usefulness in making inferences about differences between conditions. \n",
    "\n",
    "<div class=\"alert alert-block alert-info\">\n",
    "I'll comment for the record that \"violin\" plot is a terrible name — if the distribution of your data was actually shaped like a violin that would be very suspicious! I prefer Salem Waligura-Newman's name for them, which is \"stingray plots\". But sadly, once a name is out there, it sticks so you should get used to calling them violin plots. \n",
    "</div>"
   ]
  },
  {
   "cell_type": "markdown",
   "id": "a76858bb-3088-4646-a8af-620b9b447f12",
   "metadata": {},
   "source": [
    "## Strip and Swarm plots\n",
    "\n",
    "These are quite similar, and both plot the actual individual data points. \n"
   ]
  },
  {
   "cell_type": "markdown",
   "id": "fae13347-13c1-4241-b95f-20b2131e133e",
   "metadata": {},
   "source": [
    "~~~python\n",
    "sns.catplot(kind='strip',\n",
    "           data=df, \n",
    "           x='condition', y='RT')\n",
    "\n",
    "plt.show()\n",
    "~~~"
   ]
  },
  {
   "cell_type": "code",
   "execution_count": null,
   "id": "b7b33fa3-9027-42a8-9101-ae9644222aec",
   "metadata": {},
   "outputs": [],
   "source": []
  },
  {
   "cell_type": "markdown",
   "id": "e8c598bf-55e3-4b1d-8a6c-6ed48264a96a",
   "metadata": {},
   "source": [
    "Swarm plots shift data points laterally when they are dense, reducing overlap and making it easier to see where the data are more dense."
   ]
  },
  {
   "cell_type": "markdown",
   "id": "48ede5bc-8909-40ec-9351-a5c52f93e4ab",
   "metadata": {},
   "source": [
    "~~~python\n",
    "sns.catplot(kind='swarm',\n",
    "           data=df, \n",
    "           x='condition', y='RT')\n",
    "\n",
    "plt.show()\n",
    "~~~"
   ]
  },
  {
   "cell_type": "code",
   "execution_count": null,
   "id": "9a21564f-6b7c-4eda-b4f4-3cf71509882b",
   "metadata": {},
   "outputs": [],
   "source": []
  },
  {
   "cell_type": "markdown",
   "id": "719e896f-7b33-4f9f-b709-d4babb37eb49",
   "metadata": {},
   "source": [
    "## Bar plots\n",
    "\n",
    "These are classic ways of representing data, that focus more on showing and comparing means for different conditions, than on the distribution. The \"error bars\" (black bars at the top of each bar below) represent 95% confidence intervals, which are a way of representing variance that is better-suited for comparing between means, than for assessing the shape or breadth of the distribution. You can see below that the bar plots lose a lot of the information about the distributions of data, relative to box plots or any of the other plots above. \n",
    "\n",
    "Another limitation of bar plots is that they are \"anchored\" at zero. For some data this makes sense, especially if the data values relative to zero are meaningful. But in many cases — including our current RT data — this doesn't make a lot of sense. An RT of zero would be considered invalid data, since the human nervous system can't execute a response to a stimulus at the speed of light. So our experiment is not really concerned with how much slower than zero a person responded. As well, if your data values are far from zero, and the differences between conditions are relatively small, then bar plots make make the differences look meaninglessly small, because the *y* axis has to span the entire range from zero to the maximum value in the plot."
   ]
  },
  {
   "cell_type": "markdown",
   "id": "999b8c45-00d1-495e-8d4e-bb8ce642187f",
   "metadata": {},
   "source": [
    "~~~pythonsns.catplot(kind='bar',\n",
    "           data=df, \n",
    "           x='condition', y='RT')\n",
    "\n",
    "plt.show()\n",
    "~~~"
   ]
  },
  {
   "cell_type": "code",
   "execution_count": null,
   "id": "7f997b4b-e892-4eda-88d4-9217cd0ceb89",
   "metadata": {},
   "outputs": [],
   "source": []
  },
  {
   "cell_type": "markdown",
   "id": "97a18a0f-b16a-40d3-bc11-d61c04a8f5ed",
   "metadata": {},
   "source": [
    "## Point and Line Plots\n",
    "\n",
    "Point plots generally are a better choice when you want to focus on comparing means between categories, because they simply show the means as points, with 95% confidence intervals. The scale of the plots will be more appropriate, without the visual bias that bar plots create by filling the range from zero to the mean of each condition with a big block of colour.\n",
    "\n",
    "By default, Seaborn draws lines connecting the points in a plot. This is only really appropriate if your categories are \"connected\" in some meaningful way, such as different time points (e.g., pre- vs. post-treatment for some intervention), or when you have multiple categorical variables. "
   ]
  },
  {
   "cell_type": "markdown",
   "id": "a24be440-5776-45e8-bbd2-943430a30562",
   "metadata": {},
   "source": [
    "~~~python\n",
    "sns.catplot(kind='point',\n",
    "           data=df, \n",
    "           x='condition', y='RT')\n",
    "\n",
    "plt.show()\n",
    "~~~"
   ]
  },
  {
   "cell_type": "code",
   "execution_count": null,
   "id": "e02330bf-9142-4210-b5ae-f6509517f49a",
   "metadata": {},
   "outputs": [],
   "source": []
  },
  {
   "cell_type": "markdown",
   "id": "51b144e1-cdb4-4c35-9733-8e3b81a3ac90",
   "metadata": {},
   "source": [
    "We can remove the lines with `join=False`, and colour-code the different levels of condition with `hue='condition'`"
   ]
  },
  {
   "cell_type": "markdown",
   "id": "fccc9f4f-0151-4496-a5e8-d9ad8b8079cd",
   "metadata": {},
   "source": [
    "~~~python\n",
    "sns.catplot(kind='point', join=False, hue='condition',\n",
    "           data=df, \n",
    "           x='condition', y='RT')\n",
    "\n",
    "plt.show()\n",
    "~~~"
   ]
  },
  {
   "cell_type": "code",
   "execution_count": null,
   "id": "8952554d-c8fb-4ebf-8d81-d9417f0c2c2a",
   "metadata": {},
   "outputs": [],
   "source": []
  },
  {
   "cell_type": "markdown",
   "id": "d2b0980f-071f-493c-ab53-9f0d6eb0bf50",
   "metadata": {},
   "source": [
    "---\n",
    "\n",
    "## Summary\n",
    "- Seaborn makes it easy to generate plots useful for EDA\n",
    "- `displot()` is used for visualizing distributions of data, as histograms or kernel density estimates (KDEs)\n",
    "- 'catplot()' is used for making comparisons between different levels of categorical data, such as different experimental conditions or groups\n",
    "- Different kinds of `catplot()` plots vary in how much they communicate information about the distributions of data in each category, versus on differences between the means of the categories\n",
    "- In EDA, it's often useful to visualize the data many ways to really understand it. Even still, it's importnat to have an understanding of the strengths and limitations of different kinds of plots\n",
    "- Seaborn makes it relatively easy to generate plots and adjust properties such as colour and "
   ]
  }
 ],
 "metadata": {
  "kernelspec": {
   "display_name": "Python 3 (ipykernel)",
   "language": "python",
   "name": "python3"
  },
  "language_info": {
   "codemirror_mode": {
    "name": "ipython",
    "version": 3
   },
   "file_extension": ".py",
   "mimetype": "text/x-python",
   "name": "python",
   "nbconvert_exporter": "python",
   "pygments_lexer": "ipython3",
   "version": "3.9.6"
  }
 },
 "nbformat": 4,
 "nbformat_minor": 5
}
